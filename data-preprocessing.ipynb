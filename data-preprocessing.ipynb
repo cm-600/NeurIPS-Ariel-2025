{
 "cells": [
  {
   "cell_type": "markdown",
   "id": "8abb40d1",
   "metadata": {
    "papermill": {
     "duration": 0.004557,
     "end_time": "2025-08-13T19:00:24.146771",
     "exception": false,
     "start_time": "2025-08-13T19:00:24.142214",
     "status": "completed"
    },
    "tags": []
   },
   "source": [
    "# Data Preprocessing"
   ]
  },
  {
   "cell_type": "markdown",
   "id": "5721c909",
   "metadata": {
    "papermill": {
     "duration": 0.003991,
     "end_time": "2025-08-13T19:00:24.155274",
     "exception": false,
     "start_time": "2025-08-13T19:00:24.151283",
     "status": "completed"
    },
    "tags": []
   },
   "source": [
    "In this notebook, I calibrate the Ariel data and visualize a calibrated image, along with the original image for comparison. The calibration code is from the [Calibrating and Binning Ariel Data](https://www.kaggle.com/code/gordonyip/calibrating-and-binning-ariel-data) notebook by Gordon Yip. There are 7 steps:\n",
    "1. Analog-to-Digital Conversion (ADC)\n",
    "2. Mask Hot/Dead Pixels\n",
    "3. Linearity Correction\n",
    "4. Dark Current Subtraction\n",
    "5. Get Correlated Double Sampling (CDS)\n",
    "6. (Optional) Time Binning\n",
    "7. Flat Field Correction"
   ]
  },
  {
   "cell_type": "markdown",
   "id": "924a9055",
   "metadata": {
    "papermill": {
     "duration": 0.00352,
     "end_time": "2025-08-13T19:00:24.163651",
     "exception": false,
     "start_time": "2025-08-13T19:00:24.160131",
     "status": "completed"
    },
    "tags": []
   },
   "source": [
    "## Imports"
   ]
  },
  {
   "cell_type": "code",
   "execution_count": 1,
   "id": "8f51d096",
   "metadata": {
    "_cell_guid": "b1076dfc-b9ad-4769-8c92-a6c4dae69d19",
    "_uuid": "8f2839f25d086af736a60e9eeb907d3b93b6e0e5",
    "execution": {
     "iopub.execute_input": "2025-08-13T19:00:24.172495Z",
     "iopub.status.busy": "2025-08-13T19:00:24.171998Z",
     "iopub.status.idle": "2025-08-13T19:00:29.457679Z",
     "shell.execute_reply": "2025-08-13T19:00:29.456632Z"
    },
    "papermill": {
     "duration": 5.292431,
     "end_time": "2025-08-13T19:00:29.459758",
     "exception": false,
     "start_time": "2025-08-13T19:00:24.167327",
     "status": "completed"
    },
    "tags": []
   },
   "outputs": [],
   "source": [
    "import numpy as np\n",
    "import pandas as pd\n",
    "import matplotlib.pyplot as plt \n",
    "import itertools\n",
    "import os\n",
    "import glob \n",
    "import seaborn as sns\n",
    "from astropy.stats import sigma_clip\n",
    "from tqdm import tqdm\n",
    "\n",
    "sns.set_theme(style='darkgrid')\n",
    "palette = sns.color_palette('muted')"
   ]
  },
  {
   "cell_type": "code",
   "execution_count": 2,
   "id": "308ec272",
   "metadata": {
    "execution": {
     "iopub.execute_input": "2025-08-13T19:00:29.469576Z",
     "iopub.status.busy": "2025-08-13T19:00:29.469125Z",
     "iopub.status.idle": "2025-08-13T19:00:29.476170Z",
     "shell.execute_reply": "2025-08-13T19:00:29.475062Z"
    },
    "papermill": {
     "duration": 0.013751,
     "end_time": "2025-08-13T19:00:29.477705",
     "exception": false,
     "start_time": "2025-08-13T19:00:29.463954",
     "status": "completed"
    },
    "tags": []
   },
   "outputs": [
    {
     "name": "stdout",
     "output_type": "stream",
     "text": [
      "Directory /kaggle/tmp/data_light_raw/ created.\n"
     ]
    }
   ],
   "source": [
    "path_folder = '/kaggle/input/ariel-data-challenge-2025/' \n",
    "path_out = '/kaggle/tmp/data_light_raw/'\n",
    "\n",
    "if not os.path.exists(path_out):\n",
    "    os.makedirs(path_out)\n",
    "    print(f\"Directory {path_out} created.\")\n",
    "else:\n",
    "    print(f\"Directory {path_out} already exists.\")\n",
    "\n",
    "CHUNKS_SIZE = 1"
   ]
  },
  {
   "cell_type": "markdown",
   "id": "27fcb785",
   "metadata": {
    "papermill": {
     "duration": 0.003657,
     "end_time": "2025-08-13T19:00:29.485675",
     "exception": false,
     "start_time": "2025-08-13T19:00:29.482018",
     "status": "completed"
    },
    "tags": []
   },
   "source": [
    "## Functions"
   ]
  },
  {
   "cell_type": "code",
   "execution_count": 3,
   "id": "a29c6c26",
   "metadata": {
    "execution": {
     "iopub.execute_input": "2025-08-13T19:00:29.495536Z",
     "iopub.status.busy": "2025-08-13T19:00:29.495221Z",
     "iopub.status.idle": "2025-08-13T19:00:29.507349Z",
     "shell.execute_reply": "2025-08-13T19:00:29.506417Z"
    },
    "papermill": {
     "duration": 0.019511,
     "end_time": "2025-08-13T19:00:29.508896",
     "exception": false,
     "start_time": "2025-08-13T19:00:29.489385",
     "status": "completed"
    },
    "tags": []
   },
   "outputs": [],
   "source": [
    "def ADC_convert(signal, gain=0.4369, offset=-1000):\n",
    "    \"\"\"The Analog-to-Digital Conversion (adc) is performed by the detector to convert\n",
    "    the pixel voltage into an integer number. Since we are using the same conversion number \n",
    "    this year, we have simply hard-coded it inside.\"\"\"\n",
    "    signal = signal.astype(np.float64)\n",
    "    signal /= gain\n",
    "    signal += offset\n",
    "    return signal\n",
    "\n",
    "def mask_hot_dead(signal, dead, dark):\n",
    "    hot = sigma_clip(\n",
    "        dark, sigma=5, maxiters=5\n",
    "    ).mask\n",
    "    hot = np.tile(hot, (signal.shape[0], 1, 1))\n",
    "    dead = np.tile(dead, (signal.shape[0], 1, 1))\n",
    "    signal = np.ma.masked_where(dead, signal)\n",
    "    signal = np.ma.masked_where(hot, signal)\n",
    "    return signal\n",
    "\n",
    "def apply_linear_corr(linear_corr, clean_signal):\n",
    "    linear_corr = np.flip(linear_corr, axis=0)\n",
    "    for x, y in itertools.product(\n",
    "                range(clean_signal.shape[1]), range(clean_signal.shape[2])\n",
    "            ):\n",
    "        poli = np.poly1d(linear_corr[:, x, y])\n",
    "        clean_signal[:, x, y] = poli(clean_signal[:, x, y])\n",
    "    return clean_signal\n",
    "\n",
    "def clean_dark(signal, dead, dark, dt):\n",
    "    dark = np.ma.masked_where(dead, dark)\n",
    "    dark = np.tile(dark, (signal.shape[0], 1, 1))\n",
    "    signal -= dark * dt[:, np.newaxis, np.newaxis]\n",
    "    return signal\n",
    "\n",
    "def get_cds(signal):\n",
    "    cds = signal[:,1::2,:,:] - signal[:,::2,:,:]\n",
    "    return cds\n",
    "\n",
    "def bin_obs(cds_signal, binning):\n",
    "    cds_transposed = cds_signal.transpose(0,1,3,2)\n",
    "    cds_binned = np.zeros((cds_transposed.shape[0], cds_transposed.shape[1] // binning, cds_transposed.shape[2], cds_transposed.shape[3]))\n",
    "    for i in range(cds_transposed.shape[1] // binning):\n",
    "        cds_binned[:,i,:,:] = np.sum(cds_transposed[:,i*binning:(i+1)*binning,:,:], axis=1)\n",
    "    return cds_binned\n",
    "\n",
    "def correct_flat_field(flat, dead, signal):\n",
    "    flat = flat.transpose(1, 0)\n",
    "    dead = dead.transpose(1, 0)\n",
    "    flat = np.ma.masked_where(dead, flat)\n",
    "    flat = np.tile(flat, (signal.shape[0], 1, 1))\n",
    "    signal /= flat\n",
    "    return signal\n",
    "\n",
    "def get_index(files, CHUNKS_SIZE):\n",
    "    index = []\n",
    "    for file in files:\n",
    "        file_name = file.split('/')[-1]\n",
    "        if file_name.split('_')[0] == 'AIRS-CH0' and file_name.split('_')[1] == 'signal' and file_name.split('_')[2] == '0.parquet':\n",
    "            file_index = os.path.basename(os.path.dirname(file))\n",
    "            index.append(int(file_index))\n",
    "    index = np.array(index)\n",
    "    index = np.sort(index) \n",
    "    # credit to DennisSakva\n",
    "    index = np.array_split(index, len(index) // CHUNKS_SIZE)\n",
    "    \n",
    "    return index"
   ]
  },
  {
   "cell_type": "markdown",
   "id": "bd4f891b",
   "metadata": {
    "papermill": {
     "duration": 0.003407,
     "end_time": "2025-08-13T19:00:29.516106",
     "exception": false,
     "start_time": "2025-08-13T19:00:29.512699",
     "status": "completed"
    },
    "tags": []
   },
   "source": [
    "## Calibration"
   ]
  },
  {
   "cell_type": "code",
   "execution_count": 4,
   "id": "16c98cf1",
   "metadata": {
    "execution": {
     "iopub.execute_input": "2025-08-13T19:00:29.526091Z",
     "iopub.status.busy": "2025-08-13T19:00:29.525690Z",
     "iopub.status.idle": "2025-08-13T19:00:29.562345Z",
     "shell.execute_reply": "2025-08-13T19:00:29.561275Z"
    },
    "papermill": {
     "duration": 0.043438,
     "end_time": "2025-08-13T19:00:29.564008",
     "exception": false,
     "start_time": "2025-08-13T19:00:29.520570",
     "status": "completed"
    },
    "tags": []
   },
   "outputs": [
    {
     "name": "stdout",
     "output_type": "stream",
     "text": [
      "planet_id: 1266154112\n"
     ]
    }
   ],
   "source": [
    "# Select a random planet_id\n",
    "df_train_star_info = pd.read_csv(path_folder + 'train_star_info.csv')\n",
    "planet_id = df_train_star_info['planet_id'].sample(n=1, random_state=42).iloc[0]\n",
    "print('planet_id:', planet_id)"
   ]
  },
  {
   "cell_type": "code",
   "execution_count": 5,
   "id": "63d11959",
   "metadata": {
    "execution": {
     "iopub.execute_input": "2025-08-13T19:00:29.573811Z",
     "iopub.status.busy": "2025-08-13T19:00:29.573491Z",
     "iopub.status.idle": "2025-08-13T19:00:29.592014Z",
     "shell.execute_reply": "2025-08-13T19:00:29.591169Z"
    },
    "papermill": {
     "duration": 0.025464,
     "end_time": "2025-08-13T19:00:29.593604",
     "exception": false,
     "start_time": "2025-08-13T19:00:29.568140",
     "status": "completed"
    },
    "tags": []
   },
   "outputs": [
    {
     "name": "stdout",
     "output_type": "stream",
     "text": [
      "4\n"
     ]
    },
    {
     "data": {
      "text/plain": [
       "['/kaggle/input/ariel-data-challenge-2025/train/1266154112/FGS1_signal_0.parquet',\n",
       " '/kaggle/input/ariel-data-challenge-2025/train/1266154112/AIRS-CH0_calibration_0',\n",
       " '/kaggle/input/ariel-data-challenge-2025/train/1266154112/FGS1_calibration_0',\n",
       " '/kaggle/input/ariel-data-challenge-2025/train/1266154112/AIRS-CH0_signal_0.parquet']"
      ]
     },
     "execution_count": 5,
     "metadata": {},
     "output_type": "execute_result"
    }
   ],
   "source": [
    "# List all paths in train for the specified planet_id\n",
    "files = glob.glob(os.path.join(path_folder + 'train/' + str(planet_id), '*'))\n",
    "print(len(files))\n",
    "files"
   ]
  },
  {
   "cell_type": "code",
   "execution_count": 6,
   "id": "68fe7609",
   "metadata": {
    "execution": {
     "iopub.execute_input": "2025-08-13T19:00:29.603933Z",
     "iopub.status.busy": "2025-08-13T19:00:29.603591Z",
     "iopub.status.idle": "2025-08-13T19:00:29.609996Z",
     "shell.execute_reply": "2025-08-13T19:00:29.609215Z"
    },
    "papermill": {
     "duration": 0.013812,
     "end_time": "2025-08-13T19:00:29.611733",
     "exception": false,
     "start_time": "2025-08-13T19:00:29.597921",
     "status": "completed"
    },
    "tags": []
   },
   "outputs": [
    {
     "name": "stdout",
     "output_type": "stream",
     "text": [
      "1\n"
     ]
    },
    {
     "data": {
      "text/plain": [
       "[array([1266154112])]"
      ]
     },
     "execution_count": 6,
     "metadata": {},
     "output_type": "execute_result"
    }
   ],
   "source": [
    "index = get_index(files, CHUNKS_SIZE)  \n",
    "print(len(index))\n",
    "index"
   ]
  },
  {
   "cell_type": "code",
   "execution_count": 7,
   "id": "12ec6d6f",
   "metadata": {
    "execution": {
     "iopub.execute_input": "2025-08-13T19:00:29.621075Z",
     "iopub.status.busy": "2025-08-13T19:00:29.620786Z",
     "iopub.status.idle": "2025-08-13T19:00:29.836467Z",
     "shell.execute_reply": "2025-08-13T19:00:29.835468Z"
    },
    "papermill": {
     "duration": 0.22252,
     "end_time": "2025-08-13T19:00:29.838343",
     "exception": false,
     "start_time": "2025-08-13T19:00:29.615823",
     "status": "completed"
    },
    "tags": []
   },
   "outputs": [],
   "source": [
    "axis_info = pd.read_parquet(os.path.join(path_folder, 'axis_info.parquet'))\n",
    "\n",
    "DO_MASK = True\n",
    "DO_THE_NL_CORR = False\n",
    "DO_DARK = True\n",
    "DO_FLAT = True\n",
    "TIME_BINNING = True\n",
    "\n",
    "cut_inf, cut_sup = 39, 321\n",
    "l = cut_sup - cut_inf"
   ]
  },
  {
   "cell_type": "code",
   "execution_count": 8,
   "id": "82f86d89",
   "metadata": {
    "execution": {
     "iopub.execute_input": "2025-08-13T19:00:29.848879Z",
     "iopub.status.busy": "2025-08-13T19:00:29.848575Z",
     "iopub.status.idle": "2025-08-13T19:00:45.500784Z",
     "shell.execute_reply": "2025-08-13T19:00:45.499524Z"
    },
    "papermill": {
     "duration": 15.660295,
     "end_time": "2025-08-13T19:00:45.502733",
     "exception": false,
     "start_time": "2025-08-13T19:00:29.842438",
     "status": "completed"
    },
    "tags": []
   },
   "outputs": [
    {
     "name": "stderr",
     "output_type": "stream",
     "text": [
      "100%|██████████| 1/1 [00:15<00:00, 15.62s/it]\n"
     ]
    }
   ],
   "source": [
    "for n, index_chunk in enumerate(tqdm(index)):\n",
    "    AIRS_CH0_clean = np.zeros((CHUNKS_SIZE, 11250, 32, l))\n",
    "    FGS1_clean = np.zeros((CHUNKS_SIZE, 135000, 32, 32))\n",
    "    \n",
    "    for i in range(CHUNKS_SIZE): \n",
    "        # AIRS Data\n",
    "        df = pd.read_parquet(os.path.join(path_folder, f'train/{index_chunk[i]}/AIRS-CH0_signal_0.parquet'))\n",
    "        signal = df.values.astype(np.float64).reshape((df.shape[0], 32, 356))\n",
    "\n",
    "        # 1. ADC Conversion\n",
    "        signal = ADC_convert(signal,)\n",
    "        dt_airs = axis_info['AIRS-CH0-integration_time'].dropna().values\n",
    "        dt_airs[1::2] += 0.1\n",
    "        chopped_signal = signal[:, :, cut_inf:cut_sup]\n",
    "        del signal, df\n",
    "        \n",
    "        # CLEANING THE DATA: AIRS\n",
    "        flat = pd.read_parquet(os.path.join(path_folder,f'train/{index_chunk[i]}/AIRS-CH0_calibration_0/flat.parquet')).values.astype(np.float64).reshape((32, 356))[:, cut_inf:cut_sup]\n",
    "        dark = pd.read_parquet(os.path.join(path_folder,f'train/{index_chunk[i]}/AIRS-CH0_calibration_0/dark.parquet')).values.astype(np.float64).reshape((32, 356))[:, cut_inf:cut_sup]\n",
    "        dead_airs = pd.read_parquet(os.path.join(path_folder,f'train/{index_chunk[i]}/AIRS-CH0_calibration_0/dead.parquet')).values.astype(np.float64).reshape((32, 356))[:, cut_inf:cut_sup]\n",
    "        linear_corr = pd.read_parquet(os.path.join(path_folder,f'train/{index_chunk[i]}/AIRS-CH0_calibration_0/linear_corr.parquet')).values.astype(np.float64).reshape((6, 32, 356))[:, :, cut_inf:cut_sup]\n",
    "\n",
    "        # 2. Mask Hot/Dead Pixels\n",
    "        if DO_MASK:\n",
    "            chopped_signal = mask_hot_dead(chopped_signal, dead_airs, dark)\n",
    "        AIRS_CH0_clean[i] = chopped_signal\n",
    "\n",
    "        # 3. Linearity Correction\n",
    "        if DO_THE_NL_CORR: \n",
    "            linear_corr_signal = apply_linear_corr(linear_corr, AIRS_CH0_clean[i])\n",
    "            AIRS_CH0_clean[i,:, :, :] = linear_corr_signal\n",
    "        del linear_corr\n",
    "\n",
    "        # 4. Dark Current Subtraction\n",
    "        if DO_DARK: \n",
    "            cleaned_signal = clean_dark(AIRS_CH0_clean[i], dead_airs, dark, dt_airs)\n",
    "            AIRS_CH0_clean[i] = cleaned_signal\n",
    "        else: \n",
    "            pass\n",
    "        del dark\n",
    "\n",
    "        # FGS1\n",
    "        df = pd.read_parquet(os.path.join(path_folder, f'train/{index_chunk[i]}/FGS1_signal_0.parquet'))\n",
    "        fgs_signal = df.values.astype(np.float64).reshape((df.shape[0], 32, 32))\n",
    "\n",
    "        # 1. ADC Conversion\n",
    "        fgs_signal = ADC_convert(fgs_signal,)\n",
    "        dt_fgs1 = np.ones(len(fgs_signal)) * 0.1\n",
    "        dt_fgs1[1::2] += 0.1\n",
    "        chopped_FGS1 = fgs_signal\n",
    "        del fgs_signal, df\n",
    "        \n",
    "        # CLEANING THE DATA: FGS1\n",
    "        flat = pd.read_parquet(os.path.join(path_folder,f'train/{index_chunk[i]}/FGS1_calibration_0/flat.parquet')).values.astype(np.float64).reshape((32, 32))\n",
    "        dark = pd.read_parquet(os.path.join(path_folder,f'train/{index_chunk[i]}/FGS1_calibration_0/dark.parquet')).values.astype(np.float64).reshape((32, 32))\n",
    "        dead_fgs1 = pd.read_parquet(os.path.join(path_folder,f'train/{index_chunk[i]}/FGS1_calibration_0/dead.parquet')).values.astype(np.float64).reshape((32, 32))\n",
    "        linear_corr = pd.read_parquet(os.path.join(path_folder,f'train/{index_chunk[i]}/FGS1_calibration_0/linear_corr.parquet')).values.astype(np.float64).reshape((6, 32, 32))\n",
    "\n",
    "        # 2. Mask Hot/Dead pixels\n",
    "        if DO_MASK:\n",
    "            chopped_FGS1 = mask_hot_dead(chopped_FGS1, dead_fgs1, dark)\n",
    "        FGS1_clean[i] = chopped_FGS1\n",
    "\n",
    "        # 3. Linearity Correction\n",
    "        if DO_THE_NL_CORR: \n",
    "            linear_corr_signal = apply_linear_corr(linear_corr, FGS1_clean[i])\n",
    "            FGS1_clean[i,:, :, :] = linear_corr_signal\n",
    "        del linear_corr\n",
    "\n",
    "        # 4. Dark Current Subtraction\n",
    "        if DO_DARK: \n",
    "            cleaned_signal = clean_dark(FGS1_clean[i], dead_fgs1, dark,dt_fgs1)\n",
    "            FGS1_clean[i] = cleaned_signal\n",
    "        else: \n",
    "            pass\n",
    "        del dark\n",
    "        \n",
    "    # SAVE DATA AND FREE SPACE\n",
    "    # 5. Get Correlated Double Sampling\n",
    "    AIRS_cds = get_cds(AIRS_CH0_clean)\n",
    "    FGS1_cds = get_cds(FGS1_clean)\n",
    "    \n",
    "    del AIRS_CH0_clean, FGS1_clean\n",
    "    \n",
    "    # 6. (Optional) Time Binning (to reduce space)\n",
    "    if TIME_BINNING:\n",
    "        AIRS_cds_binned = bin_obs(AIRS_cds,binning=30)\n",
    "        FGS1_cds_binned = bin_obs(FGS1_cds,binning=30*12)\n",
    "    else:\n",
    "        AIRS_cds = AIRS_cds.transpose(0,1,3,2) ## this is important to make it consistent for flat fielding, but you can always change it\n",
    "        AIRS_cds_binned = AIRS_cds\n",
    "        FGS1_cds = FGS1_cds.transpose(0,1,3,2)\n",
    "        FGS1_cds_binned = FGS1_cds\n",
    "    \n",
    "    del AIRS_cds, FGS1_cds\n",
    "\n",
    "    # 7. Flat Field Correction\n",
    "    for i in range(CHUNKS_SIZE):\n",
    "        if DO_FLAT:\n",
    "            flat_airs = pd.read_parquet(os.path.join(path_folder,f'train/{index_chunk[i]}/AIRS-CH0_calibration_0/flat.parquet')).values.astype(np.float64).reshape((32, 356))[:, cut_inf:cut_sup]\n",
    "            flat_fgs = pd.read_parquet(os.path.join(path_folder,f'train/{index_chunk[i]}/FGS1_calibration_0/flat.parquet')).values.astype(np.float64).reshape((32, 32))\n",
    "            corrected_AIRS_cds_binned = correct_flat_field(flat_airs,dead_airs, AIRS_cds_binned[i])\n",
    "            AIRS_cds_binned[i] = corrected_AIRS_cds_binned\n",
    "            corrected_FGS1_cds_binned = correct_flat_field(flat_fgs,dead_fgs1, FGS1_cds_binned[i])\n",
    "            FGS1_cds_binned[i] = corrected_FGS1_cds_binned\n",
    "        else:\n",
    "            pass\n",
    "\n",
    "    # Save data\n",
    "    np.save(os.path.join(path_out, 'AIRS_clean_train_{}.npy'.format(n)), AIRS_cds_binned)\n",
    "    np.save(os.path.join(path_out, 'FGS1_train_{}.npy'.format(n)), FGS1_cds_binned)\n",
    "    del AIRS_cds_binned\n",
    "    del FGS1_cds_binned"
   ]
  },
  {
   "cell_type": "code",
   "execution_count": 9,
   "id": "12d68eda",
   "metadata": {
    "execution": {
     "iopub.execute_input": "2025-08-13T19:00:45.513036Z",
     "iopub.status.busy": "2025-08-13T19:00:45.512732Z",
     "iopub.status.idle": "2025-08-13T19:00:45.536494Z",
     "shell.execute_reply": "2025-08-13T19:00:45.535546Z"
    },
    "papermill": {
     "duration": 0.031359,
     "end_time": "2025-08-13T19:00:45.538648",
     "exception": false,
     "start_time": "2025-08-13T19:00:45.507289",
     "status": "completed"
    },
    "tags": []
   },
   "outputs": [],
   "source": [
    "def load_data(file, chunk_size, nb_files): \n",
    "    data0 = np.load(file + '_0.npy')\n",
    "    data_all = np.zeros((nb_files * chunk_size, data0.shape[1], data0.shape[2], data0.shape[3]))\n",
    "    data_all[:chunk_size] = data0\n",
    "    for i in range(1, nb_files): \n",
    "        data_all[i * chunk_size : (i+1) * chunk_size] = np.load(file + '_{}.npy'.format(i))\n",
    "    return data_all \n",
    "\n",
    "data_train_AIRS = load_data(path_out + 'AIRS_clean_train', CHUNKS_SIZE, len(index)) \n",
    "data_train_FGS = load_data(path_out + 'FGS1_train', CHUNKS_SIZE, len(index))"
   ]
  },
  {
   "cell_type": "code",
   "execution_count": 10,
   "id": "b898495d",
   "metadata": {
    "execution": {
     "iopub.execute_input": "2025-08-13T19:00:45.551726Z",
     "iopub.status.busy": "2025-08-13T19:00:45.551073Z",
     "iopub.status.idle": "2025-08-13T19:00:45.558366Z",
     "shell.execute_reply": "2025-08-13T19:00:45.557275Z"
    },
    "papermill": {
     "duration": 0.015904,
     "end_time": "2025-08-13T19:00:45.559869",
     "exception": false,
     "start_time": "2025-08-13T19:00:45.543965",
     "status": "completed"
    },
    "tags": []
   },
   "outputs": [
    {
     "name": "stdout",
     "output_type": "stream",
     "text": [
      "Shape of the training datasets: \t\n",
      "\n",
      " For AIRS-CH0: (1, 187, 282, 32)\n",
      "\n",
      " For FGS1: (1, 187, 32, 32)\n"
     ]
    }
   ],
   "source": [
    "print('Shape of the training datasets: \\t')\n",
    "print('\\n For AIRS-CH0:', data_train_AIRS.shape)\n",
    "print('\\n For FGS1:', data_train_FGS.shape)"
   ]
  },
  {
   "cell_type": "markdown",
   "id": "39af973a",
   "metadata": {
    "papermill": {
     "duration": 0.004237,
     "end_time": "2025-08-13T19:00:45.570589",
     "exception": false,
     "start_time": "2025-08-13T19:00:45.566352",
     "status": "completed"
    },
    "tags": []
   },
   "source": [
    "## Visualization"
   ]
  },
  {
   "cell_type": "markdown",
   "id": "edb878af",
   "metadata": {
    "papermill": {
     "duration": 0.004058,
     "end_time": "2025-08-13T19:00:45.580775",
     "exception": false,
     "start_time": "2025-08-13T19:00:45.576717",
     "status": "completed"
    },
    "tags": []
   },
   "source": [
    "### Original Image"
   ]
  },
  {
   "cell_type": "code",
   "execution_count": 11,
   "id": "0c92c038",
   "metadata": {
    "execution": {
     "iopub.execute_input": "2025-08-13T19:00:45.591645Z",
     "iopub.status.busy": "2025-08-13T19:00:45.591083Z",
     "iopub.status.idle": "2025-08-13T19:00:46.193929Z",
     "shell.execute_reply": "2025-08-13T19:00:46.192750Z"
    },
    "papermill": {
     "duration": 0.610591,
     "end_time": "2025-08-13T19:00:46.195937",
     "exception": false,
     "start_time": "2025-08-13T19:00:45.585346",
     "status": "completed"
    },
    "tags": []
   },
   "outputs": [
    {
     "name": "stdout",
     "output_type": "stream",
     "text": [
      "(135000, 1024)\n",
      "(1024,)\n"
     ]
    }
   ],
   "source": [
    "# Load the FGS1 signal data\n",
    "path_train = path_folder + 'train/' + str(planet_id) + '/'\n",
    "df_fgs1_signal = pd.read_parquet(path_train + 'FGS1_signal_0.parquet')\n",
    "\n",
    "print(df_fgs1_signal.shape)\n",
    "print(df_fgs1_signal.iloc[i].shape)"
   ]
  },
  {
   "cell_type": "code",
   "execution_count": 12,
   "id": "dac00287",
   "metadata": {
    "execution": {
     "iopub.execute_input": "2025-08-13T19:00:46.208223Z",
     "iopub.status.busy": "2025-08-13T19:00:46.207256Z",
     "iopub.status.idle": "2025-08-13T19:00:46.797658Z",
     "shell.execute_reply": "2025-08-13T19:00:46.796539Z"
    },
    "papermill": {
     "duration": 0.599374,
     "end_time": "2025-08-13T19:00:46.799864",
     "exception": false,
     "start_time": "2025-08-13T19:00:46.200490",
     "status": "completed"
    },
    "tags": []
   },
   "outputs": [
    {
     "data": {
      "image/png": "[encoded data removed]",
      "text/plain": [
       "<Figure size 1200x400 with 3 Axes>"
      ]
     },
     "metadata": {},
     "output_type": "display_data"
    }
   ],
   "source": [
    "# Visualize 3 time steps of the randomly selected planet_id from FGS1\n",
    "colormap = 'magma'\n",
    "fig, axes = plt.subplots(1, 3, figsize=(12, 4))\n",
    "\n",
    "# 3 time steps: 1st, 2nd, last\n",
    "time_steps = [0, 1, len(df_fgs1_signal) - 1]\n",
    "images = [np.reshape(df_fgs1_signal.iloc[i], (32, 32)) for i in time_steps]\n",
    "\n",
    "i = 0\n",
    "for ax, img in zip(axes, images):\n",
    "    ax.imshow(img, cmap=colormap)\n",
    "    ax.set_title(f'Time Step {time_steps[i] + 1}', fontsize=10)\n",
    "    i += 1\n",
    "    ax.axis('off')\n",
    "\n",
    "fig.suptitle('Original FGS1 Signal Images for Star-Planet System ' + str(planet_id), y=1, fontsize=12)\n",
    "\n",
    "plt.tight_layout()\n",
    "plt.show()"
   ]
  },
  {
   "cell_type": "markdown",
   "id": "b65ada49",
   "metadata": {
    "papermill": {
     "duration": 0.004343,
     "end_time": "2025-08-13T19:00:46.809065",
     "exception": false,
     "start_time": "2025-08-13T19:00:46.804722",
     "status": "completed"
    },
    "tags": []
   },
   "source": [
    "### Calibrated Image"
   ]
  },
  {
   "cell_type": "code",
   "execution_count": 13,
   "id": "e2ce31a9",
   "metadata": {
    "execution": {
     "iopub.execute_input": "2025-08-13T19:00:46.820509Z",
     "iopub.status.busy": "2025-08-13T19:00:46.819679Z",
     "iopub.status.idle": "2025-08-13T19:00:47.267783Z",
     "shell.execute_reply": "2025-08-13T19:00:47.266973Z"
    },
    "papermill": {
     "duration": 0.455209,
     "end_time": "2025-08-13T19:00:47.269411",
     "exception": false,
     "start_time": "2025-08-13T19:00:46.814202",
     "status": "completed"
    },
    "tags": []
   },
   "outputs": [
    {
     "data": {
      "image/png": "[encoded data removed]",
      "text/plain": [
       "<Figure size 1200x400 with 3 Axes>"
      ]
     },
     "metadata": {},
     "output_type": "display_data"
    }
   ],
   "source": [
    "fig, axes = plt.subplots(1, 3, figsize=(12, 4))\n",
    "\n",
    "# 3 time steps: 1st, 2nd, last\n",
    "time_steps = [0, 1, data_train_FGS.shape[1] - 1]\n",
    "images = [np.reshape(data_train_FGS[0,i,:,:], (32, 32)) for i in time_steps]\n",
    "\n",
    "i = 0\n",
    "for ax, img in zip(axes, images):\n",
    "    ax.imshow(img.T, cmap=colormap)\n",
    "    ax.set_title(f'Time Step {time_steps[i] + 1}', fontsize=10)\n",
    "    i += 1\n",
    "    ax.axis('off')\n",
    "\n",
    "fig.suptitle('Calibrated FGS1 Signal Images for Star-Planet System ' + str(planet_id), y=1, fontsize=12)\n",
    "\n",
    "plt.tight_layout()\n",
    "plt.show()"
   ]
  },
  {
   "cell_type": "markdown",
   "id": "1b4b5297",
   "metadata": {
    "papermill": {
     "duration": 0.004697,
     "end_time": "2025-08-13T19:00:47.279377",
     "exception": false,
     "start_time": "2025-08-13T19:00:47.274680",
     "status": "completed"
    },
    "tags": []
   },
   "source": [
    "### Light Curve"
   ]
  },
  {
   "cell_type": "code",
   "execution_count": 14,
   "id": "9820c770",
   "metadata": {
    "execution": {
     "iopub.execute_input": "2025-08-13T19:00:47.290881Z",
     "iopub.status.busy": "2025-08-13T19:00:47.290570Z",
     "iopub.status.idle": "2025-08-13T19:00:47.539472Z",
     "shell.execute_reply": "2025-08-13T19:00:47.538056Z"
    },
    "papermill": {
     "duration": 0.256561,
     "end_time": "2025-08-13T19:00:47.540876",
     "exception": false,
     "start_time": "2025-08-13T19:00:47.284315",
     "status": "completed"
    },
    "tags": []
   },
   "outputs": [
    {
     "data": {
      "image/png": "[encoded data removed]",
      "text/plain": [
       "<Figure size 640x480 with 1 Axes>"
      ]
     },
     "metadata": {},
     "output_type": "display_data"
    }
   ],
   "source": [
    "for i in range(len(data_train_AIRS)) : \n",
    "    light_curve = data_train_AIRS[i,:,:,:].sum(axis=(1,2))\n",
    "    plt.plot(light_curve / light_curve.mean(), '-', alpha=1.0, color=palette[4])\n",
    "\n",
    "plt.title('Normalized Flux in the Frame over Time for Star-Planet System ' + str(planet_id))\n",
    "plt.xlabel('Time (frame index)')\n",
    "plt.ylabel('Normalized Flux')\n",
    "plt.show()"
   ]
  }
 ],
 "metadata": {
  "kaggle": {
   "accelerator": "none",
   "dataSources": [
    {
     "databundleVersionId": 13093295,
     "sourceId": 101849,
     "sourceType": "competition"
    }
   ],
   "dockerImageVersionId": 31089,
   "isGpuEnabled": false,
   "isInternetEnabled": true,
   "language": "python",
   "sourceType": "notebook"
  },
  "kernelspec": {
   "display_name": "Python 3",
   "language": "python",
   "name": "python3"
  },
  "language_info": {
   "codemirror_mode": {
    "name": "ipython",
    "version": 3
   },
   "file_extension": ".py",
   "mimetype": "text/x-python",
   "name": "python",
   "nbconvert_exporter": "python",
   "pygments_lexer": "ipython3",
   "version": "3.11.13"
  },
  "papermill": {
   "default_parameters": {},
   "duration": 29.820876,
   "end_time": "2025-08-13T19:00:48.381903",
   "environment_variables": {},
   "exception": null,
   "input_path": "__notebook__.ipynb",
   "output_path": "__notebook__.ipynb",
   "parameters": {},
   "start_time": "2025-08-13T19:00:18.561027",
   "version": "2.6.0"
  }
 },
 "nbformat": 4,
 "nbformat_minor": 5
}
